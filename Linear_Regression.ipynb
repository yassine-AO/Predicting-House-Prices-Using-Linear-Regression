{
 "cells": [
  {
   "cell_type": "markdown",
   "metadata": {},
   "source": [
    "# Linear Regression Model to predict the price depending on the surface of the estate"
   ]
  },
  {
   "cell_type": "markdown",
   "metadata": {},
   "source": [
    "## Introduction\n",
    "This notebook will reveil the process of making a linear regression model , predicting with it and evaluating it. As we know Linear regression models can only work in 2d , so in this notebook we will work with the **Price** of estates as the target data , that the model must predict from the **Surface** of taht estate."
   ]
  },
  {
   "cell_type": "markdown",
   "metadata": {},
   "source": [
    "## Installing and Importing the Libraries needed\n",
    "We will be using:\n",
    "\n",
    "- **Pandas**: to create Data Frames and controll the data , read it , modify it .\n",
    "- **Matplotlib**: which is a Library that helps visualising data by plotting graphs and tables.\n",
    "- **Scikit-learn**: which is the library that contains the regression linear method , we import the model from this library.\n",
    "- **Gdown**: It is the tool i use to import the data from google drive."
   ]
  },
  {
   "cell_type": "code",
   "execution_count": null,
   "metadata": {
    "vscode": {
     "languageId": "plaintext"
    }
   },
   "outputs": [],
   "source": [
    "!pip install pandas matplotlib scikit-learn gdown\n",
    "\n",
    "import pandas as pd\n",
    "import matplotlib.pyplot as plt\n",
    "from sklearn.model_selection import train_test_split\n",
    "from sklearn.linear_model import LinearRegression\n",
    "from sklearn.metrics import mean_squared_error, r2_score\n",
    "import numpy as np"
   ]
  },
  {
   "cell_type": "markdown",
   "metadata": {},
   "source": [
    "## Importing and Cleaning the Data\n",
    "First, we must import the data , which is a housing data that contains the **Surface** and the **Price** equivalent to it."
   ]
  },
  {
   "cell_type": "code",
   "execution_count": null,
   "metadata": {
    "vscode": {
     "languageId": "plaintext"
    }
   },
   "outputs": [],
   "source": [
    "!gdown --id 1zdrro3Xdt4EqfMBLSar2KYa0vW1e9mQf -O Housing_Data.csv"
   ]
  },
  {
   "cell_type": "markdown",
   "metadata": {},
   "source": [
    "After downloading the data , we must load the csv into a Data Frame with Pandas"
   ]
  },
  {
   "cell_type": "code",
   "execution_count": null,
   "metadata": {
    "vscode": {
     "languageId": "plaintext"
    }
   },
   "outputs": [],
   "source": [
    "df = pd.read_csv(\"Housing_Data.csv\")"
   ]
  },
  {
   "cell_type": "markdown",
   "metadata": {},
   "source": [
    "In the process of cleaning the data , we must remove any columns that have the value: **Unnamed: 0** . "
   ]
  },
  {
   "cell_type": "code",
   "execution_count": null,
   "metadata": {
    "vscode": {
     "languageId": "plaintext"
    }
   },
   "outputs": [],
   "source": [
    "df = df.drop(columns=[\"Unnamed: 0\"], errors='ignore')"
   ]
  },
  {
   "cell_type": "markdown",
   "metadata": {},
   "source": [
    "Here we check if there are some missing values by printing the summary of the values that are null."
   ]
  },
  {
   "cell_type": "code",
   "execution_count": null,
   "metadata": {
    "vscode": {
     "languageId": "plaintext"
    }
   },
   "outputs": [],
   "source": [
    "print(\"Missing values:\")\n",
    "print(df.isnull().sum())"
   ]
  },
  {
   "cell_type": "markdown",
   "metadata": {},
   "source": [
    "## Data Visualization\n",
    "Here we scatter plot to visualize the distribution of the values"
   ]
  },
  {
   "cell_type": "code",
   "execution_count": null,
   "metadata": {
    "vscode": {
     "languageId": "plaintext"
    }
   },
   "outputs": [],
   "source": [
    "plt.figure(figsize=(8, 5))\n",
    "plt.scatter(df[\"Surface\"], df[\"Prix\"], color=\"blue\", alpha=0.5)\n",
    "plt.xlabel(\"Surface (square meters)\")\n",
    "plt.ylabel(\"Prix ($)\")\n",
    "plt.title(\"Housing Prices vs Surface Area\")\n",
    "plt.grid(True)\n",
    "plt.show()"
   ]
  },
  {
   "cell_type": "markdown",
   "metadata": {},
   "source": [
    "## Data Preparation\n",
    "we must prepare the **Feature** and the **Target** data"
   ]
  },
  {
   "cell_type": "code",
   "execution_count": null,
   "metadata": {
    "vscode": {
     "languageId": "plaintext"
    }
   },
   "outputs": [],
   "source": [
    "# Defining features (X) and target (y)\n",
    "X = df[[\"Surface\"]]  # Feature should be in a 2D array, since sickit-learn accepts the features as a 2D array\n",
    "y = df[\"Prix\"]       # Target variable"
   ]
  },
  {
   "cell_type": "markdown",
   "metadata": {},
   "source": [
    "Now, we slpit the data. 80% is for training , 20% for Testing the Model"
   ]
  },
  {
   "cell_type": "code",
   "execution_count": null,
   "metadata": {
    "vscode": {
     "languageId": "plaintext"
    }
   },
   "outputs": [],
   "source": [
    "X_train, X_test, y_train, y_test = train_test_split(X, y, test_size=0.2, random_state=42)"
   ]
  },
  {
   "cell_type": "markdown",
   "metadata": {},
   "source": [
    "## Creating and Training the Linear Regression Model with sickit-learn\n",
    "We will be Creating the model , Training it so we can find the line."
   ]
  },
  {
   "cell_type": "code",
   "execution_count": null,
   "metadata": {
    "vscode": {
     "languageId": "plaintext"
    }
   },
   "outputs": [],
   "source": [
    "model = LinearRegression() #creates the model\n",
    "model.fit(X_train, y_train) #training"
   ]
  },
  {
   "cell_type": "markdown",
   "metadata": {},
   "source": [
    "## Predicting with the Trained Model\n",
    "We will be feeding the model the the Testing Features (the 20% we slpit before), so that it gives us the target data (Y)."
   ]
  },
  {
   "cell_type": "code",
   "execution_count": null,
   "metadata": {
    "vscode": {
     "languageId": "plaintext"
    }
   },
   "outputs": [],
   "source": [
    "y_pred = model.predict(X_test)"
   ]
  },
  {
   "cell_type": "markdown",
   "metadata": {},
   "source": [
    "## Model Evaluation\n",
    "we will be analyzing the the **mean squared error** , and the **Coefficient of Determination**. For a good model , the mean squared error must be have a small value. And the Coefficient of Determination must get close to 1 and far from 0."
   ]
  },
  {
   "cell_type": "code",
   "execution_count": null,
   "metadata": {
    "vscode": {
     "languageId": "plaintext"
    }
   },
   "outputs": [],
   "source": [
    "mse = mean_squared_error(y_test, y_pred)\n",
    "r2 = r2_score(y_test, y_pred)\n",
    "print(f\"Mean Squared Error: {mse}\")\n",
    "print(f\"R-squared (Coefficient of Determination): {r2}\")"
   ]
  },
  {
   "cell_type": "markdown",
   "metadata": {},
   "source": [
    "## Visualising the Regression Line\n",
    "here is the Regression line , and its parameters."
   ]
  },
  {
   "cell_type": "code",
   "execution_count": null,
   "metadata": {
    "vscode": {
     "languageId": "plaintext"
    }
   },
   "outputs": [],
   "source": [
    "# Plot the scatter plot of actual data\n",
    "plt.figure(figsize=(8, 5))\n",
    "plt.scatter(X, y, color=\"blue\", alpha=0.5, label=\"Actual Data\")\n",
    "\n",
    "# Regression line\n",
    "X_line = np.linspace(X.min(), X.max(), 100).reshape(-1, 1)  # Generate X values for line\n",
    "y_line = model.predict(X_line)  # Predict Y values\n",
    "plt.plot(X_line, y_line, color=\"red\", linewidth=2, label=\"Regression Line\")\n",
    "\n",
    "# Equation of the line: Y = ax + b / aka the parameters\n",
    "a = model.coef_[0]  # Slope\n",
    "b = model.intercept_  # Intercept\n",
    "equation_text = f\"Y = {a:.2f}X + {b:.2f}\"\n",
    "\n",
    "# Display equation on the plot\n",
    "plt.text(X.max() * 0.6, y.max() * 0.9, equation_text, fontsize=12, color=\"red\")\n",
    "\n",
    "# Calculate and display R²\n",
    "r2 = r2_score(y_test, y_pred)\n",
    "plt.text(X.max() * 0.6, y.max() * 0.85, f\"R² = {r2:.2f}\", fontsize=12, color=\"red\")\n",
    "\n",
    "# Labels and title\n",
    "plt.xlabel(\"Surface (square meters)\")\n",
    "plt.ylabel(\"Prix ($)\")\n",
    "plt.title(\"Housing Prices vs Surface Area with Regression Line\")\n",
    "plt.legend()\n",
    "plt.grid(True)\n",
    "plt.show()\n"
   ]
  }
 ],
 "metadata": {
  "language_info": {
   "name": "python"
  }
 },
 "nbformat": 4,
 "nbformat_minor": 2
}
